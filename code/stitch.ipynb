{
 "cells": [
  {
   "cell_type": "code",
   "execution_count": 2,
   "id": "e16ae02a",
   "metadata": {},
   "outputs": [],
   "source": [
    "import pandas as pd\n"
   ]
  },
  {
   "cell_type": "code",
   "execution_count": 3,
   "id": "49209b71",
   "metadata": {},
   "outputs": [
    {
     "name": "stdout",
     "output_type": "stream",
     "text": [
      "['part-00000-59a20dc7-5d83-433e-9618-c2559be4bcc2-c000.csv', 'part-00001-59a20dc7-5d83-433e-9618-c2559be4bcc2-c000.csv', 'part-00016-59a20dc7-5d83-433e-9618-c2559be4bcc2-c000.csv', 'part-00002-59a20dc7-5d83-433e-9618-c2559be4bcc2-c000.csv', 'part-00015-59a20dc7-5d83-433e-9618-c2559be4bcc2-c000.csv', 'part-00003-59a20dc7-5d83-433e-9618-c2559be4bcc2-c000.csv', 'part-00014-59a20dc7-5d83-433e-9618-c2559be4bcc2-c000.csv', 'part-00013-59a20dc7-5d83-433e-9618-c2559be4bcc2-c000.csv', 'part-00004-59a20dc7-5d83-433e-9618-c2559be4bcc2-c000.csv', 'part-00008-59a20dc7-5d83-433e-9618-c2559be4bcc2-c000.csv', 'part-00012-59a20dc7-5d83-433e-9618-c2559be4bcc2-c000.csv', 'part-00005-59a20dc7-5d83-433e-9618-c2559be4bcc2-c000.csv', 'part-00009-59a20dc7-5d83-433e-9618-c2559be4bcc2-c000.csv', 'part-00011-59a20dc7-5d83-433e-9618-c2559be4bcc2-c000.csv', 'part-00006-59a20dc7-5d83-433e-9618-c2559be4bcc2-c000.csv', 'part-00010-59a20dc7-5d83-433e-9618-c2559be4bcc2-c000.csv', 'part-00007-59a20dc7-5d83-433e-9618-c2559be4bcc2-c000.csv']\n"
     ]
    }
   ],
   "source": [
    "\n",
    "rootdir = './'\n",
    "\n",
    "from pathlib import Path\n",
    "import os\n",
    "import re\n",
    "import io\n",
    "import pandas as pd\n",
    "import numpy as np\n",
    "\n",
    "names = []\n",
    "for subdir, dirs, files in os.walk(rootdir):\n",
    "    for file in files:\n",
    "        if file.endswith(\".csv\"):\n",
    "            names.append(file)\n",
    "            \n",
    "print(names)"
   ]
  },
  {
   "cell_type": "code",
   "execution_count": 4,
   "id": "8305008d",
   "metadata": {},
   "outputs": [
    {
     "name": "stdout",
     "output_type": "stream",
     "text": [
      "                                              TYP_DESC  Count_DESC\n",
      "0                          VISIBILITY PATROL: DIRECTED     4288894\n",
      "1                        SEE COMPLAINANT: OTHER/INSIDE     1467589\n",
      "2       STATION INSPECTION BY TRANSIT BUREAU PERSONNEL     1142290\n",
      "3             TRAIN RUN/MOBILE ORDER MAINTENANCE SWEEP     1044214\n",
      "4                                       COMMUNITY TIME      932063\n",
      "..                                                 ...         ...\n",
      "447                     AMBULANCE CASE: RESCUE/OUTSIDE        2306\n",
      "448                  ASSAULT (PAST): OTHER/CHILD ABUSE        2267\n",
      "449  OTHER CRIMES (IN PROGRESS): VIOL ORDER PROTECT...        2222\n",
      "450                   ROBBERY (IN PROGRESS): RESIDENCE        2211\n",
      "451                               SUSP PACKAGE: INSIDE        2169\n",
      "\n",
      "[452 rows x 2 columns]\n"
     ]
    }
   ],
   "source": [
    "df = pd.concat(\n",
    "    map(pd.read_csv, names), ignore_index=True)\n",
    "print(df)\n",
    "reviews_file_output = f\"offc.csv\"\n",
    "df.to_csv(reviews_file_output,index=False, header=True)"
   ]
  },
  {
   "cell_type": "code",
   "execution_count": null,
   "id": "b5aadb38",
   "metadata": {},
   "outputs": [],
   "source": []
  }
 ],
 "metadata": {
  "kernelspec": {
   "display_name": "Python 3",
   "language": "python",
   "name": "python3"
  },
  "language_info": {
   "codemirror_mode": {
    "name": "ipython",
    "version": 3
   },
   "file_extension": ".py",
   "mimetype": "text/x-python",
   "name": "python",
   "nbconvert_exporter": "python",
   "pygments_lexer": "ipython3",
   "version": "3.8.8"
  }
 },
 "nbformat": 4,
 "nbformat_minor": 5
}
