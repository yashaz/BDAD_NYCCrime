﻿{
  "metadata": {
    "name": "BDAD_Project_Insights",
    "kernelspec": {
      "language": "scala",
      "name": "spark2-scala"
    },
    "language_info": {
      "codemirror_mode": "text/x-scala",
      "file_extension": ".scala",
      "mimetype": "text/x-scala",
      "name": "scala",
      "pygments_lexer": "scala"
    }
  },
  "nbformat": 4,
  "nbformat_minor": 2,
  "cells": [
    {
      "cell_type": "code",
      "execution_count": 0,
      "metadata": {
        "autoscroll": "auto"
      },
      "outputs": [],
      "source": "import org.apache.spark.SparkContext\nimport org.apache.spark.SparkContext._\nimport org.apache.spark.sql.types._\nimport org.apache.spark.sql.SparkSession\nimport org.apache.spark.sql.functions.{col}\nimport org.apache.spark.sql.functions.udf\nimport java.text.SimpleDateFormat"
    },
    {
      "cell_type": "code",
      "execution_count": 1,
      "metadata": {
        "autoscroll": "auto"
      },
      "outputs": [],
      "source": "val spark \u003d SparkSession.builder().config(\"spark.submit.deployMode\",\"client\").enableHiveSupport().getOrCreate()"
    },
    {
      "cell_type": "code",
      "execution_count": 2,
      "metadata": {
        "autoscroll": "auto"
      },
      "outputs": [],
      "source": "spark.sql(\"USE lr2947_nyu_edu\")"
    },
    {
      "cell_type": "code",
      "execution_count": 3,
      "metadata": {
        "autoscroll": "auto"
      },
      "outputs": [],
      "source": "spark.sql(\"\"\"CREATE TABLE nyc_census\nUSING parquet\nOPTIONS (\npath \u0027/user/lr2947_nyu_edu/project/Cleaned_population.parquet\u0027,\nheader \u0027true\u0027,\ninferSchema \u0027true\u0027,\nmode \u0027FAILFAST\u0027\n)\"\"\")\n"
    },
    {
      "cell_type": "code",
      "execution_count": 4,
      "metadata": {
        "autoscroll": "auto"
      },
      "outputs": [],
      "source": "spark.sql(\"SELECT * FROM nyc_census\").show(false)"
    },
    {
      "cell_type": "code",
      "execution_count": 5,
      "metadata": {
        "autoscroll": "auto"
      },
      "outputs": [],
      "source": "spark.sql(\"\"\"CREATE TABLE nyc_arrest\nUSING parquet\nOPTIONS (\npath \u0027/user/lr2947_nyu_edu/project/Cleaned_Arrest.parquet\u0027,\nheader \u0027true\u0027,\ninferSchema \u0027true\u0027,\nmode \u0027FAILFAST\u0027\n)\"\"\")"
    },
    {
      "cell_type": "code",
      "execution_count": 6,
      "metadata": {
        "autoscroll": "auto"
      },
      "outputs": [],
      "source": "spark.sql(\"SELECT * FROM nyc_arrest\").show(20,false)"
    },
    {
      "cell_type": "code",
      "execution_count": 7,
      "metadata": {
        "autoscroll": "auto"
      },
      "outputs": [],
      "source": "spark.sql(\"\"\"CREATE TABLE nyc_hate_crimes\nUSING csv\nOPTIONS (\npath \u0027/user/lr2947_nyu_edu/project/HateCrimeDataFinal/part-00000-a6899586-2874-453f-afc3-94cf7a843794-c000.csv\u0027,\nheader \u0027true\u0027,\ninferSchema \u0027true\u0027,\nmode \u0027FAILFAST\u0027\n)\"\"\")\n"
    },
    {
      "cell_type": "code",
      "execution_count": 8,
      "metadata": {
        "autoscroll": "auto"
      },
      "outputs": [],
      "source": "spark.sql(\"\"\"CREATE TABLE nyc_911_calls\nUSING csv\nOPTIONS (\npath \u0027/user/lr2947_nyu_edu/project/NYC911CallsDataFinal/*\u0027,\nheader \u0027true\u0027,\ninferSchema \u0027true\u0027,\nmode \u0027FAILFAST\u0027\n)\"\"\")\n"
    },
    {
      "cell_type": "code",
      "execution_count": 9,
      "metadata": {
        "autoscroll": "auto"
      },
      "outputs": [],
      "source": "spark.sql(\"\"\"CREATE TABLE nyc_complaints\nUSING csv\nOPTIONS (\npath \u0027/user/lr2947_nyu_edu/project/nyccomplaintfinal/*\u0027,\nheader \u0027true\u0027,\ninferSchema \u0027true\u0027,\nmode \u0027FAILFAST\u0027\n)\"\"\")"
    },
    {
      "cell_type": "code",
      "execution_count": 10,
      "metadata": {
        "autoscroll": "auto"
      },
      "outputs": [],
      "source": "spark.sql(\"SELECT * FROM nyc_complaints\").show(20,false)"
    },
    {
      "cell_type": "code",
      "execution_count": 11,
      "metadata": {
        "autoscroll": "auto"
      },
      "outputs": [],
      "source": "spark.sql(\"SELECT * FROM nyc_911_calls\").show(20,false)"
    },
    {
      "cell_type": "code",
      "execution_count": 12,
      "metadata": {
        "autoscroll": "auto"
      },
      "outputs": [],
      "source": "spark.sql(\"SELECT * FROM nyc_hate_crimes\").show(20,false)"
    },
    {
      "cell_type": "code",
      "execution_count": 13,
      "metadata": {
        "autoscroll": "auto"
      },
      "outputs": [],
      "source": "val arrest \u003d spark.sql(\"SELECT *, CONCAT(SUBSTRING(arrest_date, 1, 2), \u0027/\u0027,SUBSTRING(arrest_date, 7, 4) ) AS AYEAR from nyc_arrest\")"
    },
    {
      "cell_type": "code",
      "execution_count": 14,
      "metadata": {
        "autoscroll": "auto"
      },
      "outputs": [],
      "source": "val arrestsYear  \u003d arrest.groupBy(\"AYear\").count().alias(\"arrest_count\").sort(col(\"AYear\"))\nval arrestYear \u003d arrestsYear.withColumnRenamed(\"count\", \"arrest_count\")"
    },
    {
      "cell_type": "code",
      "execution_count": 15,
      "metadata": {
        "autoscroll": "auto"
      },
      "outputs": [],
      "source": "val complaints \u003d spark.sql(\"SELECT *, CONCAT(SUBSTRING(`complaint date`, 1, 2), \u0027/\u0027,SUBSTRING(`complaint date`, 7, 4) ) AS CYEAR from nyc_complaints\")"
    },
    {
      "cell_type": "code",
      "execution_count": 16,
      "metadata": {
        "autoscroll": "auto"
      },
      "outputs": [],
      "source": "val complaintYear  \u003d complaints.groupBy(\"CYear\").count().sort(col(\"CYear\"))\nval complaintsYear \u003d complaintYear.withColumnRenamed(\"count\", \"complaint_count\")"
    },
    {
      "cell_type": "code",
      "execution_count": 17,
      "metadata": {
        "autoscroll": "auto"
      },
      "outputs": [],
      "source": "val calls \u003d spark.sql(\"SELECT *, CONCAT(SUBSTRING(create_date, 1, 2), \u0027/\u0027,SUBSTRING(create_date, 7, 4) ) AS YEAR from nyc_911_calls\")"
    },
    {
      "cell_type": "code",
      "execution_count": 18,
      "metadata": {
        "autoscroll": "auto"
      },
      "outputs": [],
      "source": "val calYear  \u003d calls.groupBy(\"Year\").count().sort(col(\"Year\"))\nval callsYear \u003d calYear.withColumnRenamed(\"count\", \"calls_count\")"
    },
    {
      "cell_type": "code",
      "execution_count": 19,
      "metadata": {
        "autoscroll": "auto"
      },
      "outputs": [],
      "source": "val year \u003d  callsYear.join(complaintsYear,callsYear(\"Year\") \u003d\u003d\u003d complaintsYear(\"CYear\"),\"inner\")\n            .join(arrestYear,arrestYear(\"AYear\") \u003d\u003d\u003d complaintsYear(\"CYear\"),\"inner\")"
    },
    {
      "cell_type": "code",
      "execution_count": 20,
      "metadata": {
        "autoscroll": "auto"
      },
      "outputs": [],
      "source": "val yearFinal \u003d year.select(\"Year\", \"calls_count\", \"complaint_count\", \"arrest_count\")"
    },
    {
      "cell_type": "code",
      "execution_count": 21,
      "metadata": {
        "autoscroll": "auto"
      },
      "outputs": [],
      "source": "yearFinal.write.option(\"header\",true).format(\"csv\").save(\"/user/lr2947_nyu_edu/project/yearwise/monthwise\")"
    },
    {
      "cell_type": "code",
      "execution_count": 22,
      "metadata": {
        "autoscroll": "auto"
      },
      "outputs": [],
      "source": "val Calls911 \u003d spark.sql(\"SELECT DISP_TS_TRANSFORMED, ARRIVD_TS_TRANSFORMED, BORO_NM , CREATE_DATE FROM nyc_911_calls \")"
    },
    {
      "cell_type": "code",
      "execution_count": 23,
      "metadata": {
        "autoscroll": "auto"
      },
      "outputs": [],
      "source": "val complaintsFinal \u003d spark.sql(\"SELECT `BOROUGH NAME`, `NYPD PRETINCT`, SUSP_AGE_GROUP, SUSP_RACE, SUSP_SEX, VIC_AGE_GROUP, VIC_SEX, VIC_RACE FROM nyc_complaints\")\n.withColumnRenamed(\"BOROUGH NAME\",\"BOROUGH_NAME\").withColumnRenamed(\"NYPD PRETINCT\",\"NYPD_PCT\")"
    },
    {
      "cell_type": "code",
      "execution_count": 24,
      "metadata": {
        "autoscroll": "auto"
      },
      "outputs": [],
      "source": "Calls911.write.option(\"header\",true).format(\"csv\").save(\"/user/lr2947_nyu_edu/project/yearwise/callsmin\")"
    },
    {
      "cell_type": "code",
      "execution_count": 25,
      "metadata": {
        "autoscroll": "auto"
      },
      "outputs": [],
      "source": "complaintsFinal.write.option(\"header\",true).format(\"csv\").save(\"/user/lr2947_nyu_edu/project/yearwise/complaintsFinalFinal\")"
    },
    {
      "cell_type": "code",
      "execution_count": 26,
      "metadata": {
        "autoscroll": "auto"
      },
      "outputs": [],
      "source": "//To group by borough and precincts"
    },
    {
      "cell_type": "code",
      "execution_count": 27,
      "metadata": {
        "autoscroll": "auto"
      },
      "outputs": [],
      "source": "\nval abourough \u003d arrest.withColumn(\"ABORO\", when(col(\"ARREST_BORO\") \u003d\u003d\u003d \"M\",\"MANHATTAN\")\n      .when(col(\"ARREST_BORO\") \u003d\u003d\u003d \"Q\",\"QUEENS\")\n      .when(col(\"ARREST_BORO\") \u003d\u003d\u003d \"B\",\"BRONX\")\n      .when(col(\"ARREST_BORO\") \u003d\u003d\u003d \"S\",\"STATEN ISLAND\")\n      .when(col(\"ARREST_BORO\") \u003d\u003d\u003d \"K\",\"BROOKLYN\")\n      .otherwise(col(\"ARREST_BORO\")))                "
    },
    {
      "cell_type": "code",
      "execution_count": 28,
      "metadata": {
        "autoscroll": "auto"
      },
      "outputs": [],
      "source": "abourough.show(5,false)"
    },
    {
      "cell_type": "code",
      "execution_count": 29,
      "metadata": {
        "autoscroll": "auto"
      },
      "outputs": [],
      "source": "val Aboroughs \u003d abourough.select(\"ABORO\").groupBy(\"ABORO\").count()\nval callBoroughs \u003d calls.groupBy(\"BORO_NM\").count().withColumnRenamed(\"count\", \"calls_count\")\nval complaintsBoroughs \u003d complaints.groupBy(\"BOROUGH NAME\").count().withColumnRenamed(\"count\", \"complaints_count\")"
    },
    {
      "cell_type": "code",
      "execution_count": 30,
      "metadata": {
        "autoscroll": "auto"
      },
      "outputs": [],
      "source": "Aboroughs.show(5,false)"
    },
    {
      "cell_type": "code",
      "execution_count": 31,
      "metadata": {
        "autoscroll": "auto"
      },
      "outputs": [],
      "source": "val boroughs \u003d  callBoroughs.join(complaintsBoroughs,callBoroughs(\"BORO_NM\") \u003d\u003d\u003d complaintsBoroughs(\"BOROUGH NAME\"),\"inner\")\n            .join(Aboroughs,Aboroughs(\"ABORO\") \u003d\u003d\u003d complaintsBoroughs(\"BOROUGH NAME\"),\"inner\")"
    },
    {
      "cell_type": "code",
      "execution_count": 32,
      "metadata": {
        "autoscroll": "auto"
      },
      "outputs": [],
      "source": "boroughs.show(5,false)"
    },
    {
      "cell_type": "code",
      "execution_count": 33,
      "metadata": {
        "autoscroll": "auto"
      },
      "outputs": [],
      "source": "val finalBorough \u003d boroughs.select(\"BORO_NM\", \"calls_count\",\"complaints_count\", \"count\" )"
    },
    {
      "cell_type": "code",
      "execution_count": 34,
      "metadata": {
        "autoscroll": "auto"
      },
      "outputs": [],
      "source": "finalBorough.show(false)"
    },
    {
      "cell_type": "code",
      "execution_count": 35,
      "metadata": {
        "autoscroll": "auto"
      },
      "outputs": [],
      "source": "finalBorough.write.option(\"header\",true).format(\"csv\").save(\"/user/lr2947_nyu_edu/project/new_insight/boroughs\")\nval complaints \u003d spark.sql(\"SELECT *, SUBSTRING(`complaint date`, 7, 4)  AS OnlyCYEAR from nyc_complaints\")"
    },
    {
      "cell_type": "code",
      "execution_count": 36,
      "metadata": {
        "autoscroll": "auto"
      },
      "outputs": [],
      "source": "val arrest_year \u003d spark.sql(\"SELECT *,SUBSTRING(arrest_date, 7, 4) AS OnlyAYEAR from nyc_arrest\")\nval complaints_year \u003d spark.sql(\"SELECT *, SUBSTRING(`complaint date`, 7, 4)  AS OnlyCYEAR from nyc_complaints\")\n"
    },
    {
      "cell_type": "code",
      "execution_count": 37,
      "metadata": {
        "autoscroll": "auto"
      },
      "outputs": [],
      "source": "val arr_offense \u003d arrest_year.select(\"OnlyAYEAR\" , \"OFNS_DESC\", \"ARREST_BORO\").where(arrest_year(\"OnlyAYEAR\") \u003d\u003d\u003d \"2018\" || arrest_year(\"OnlyAYEAR\") \u003d\u003d\u003d \"2019\" || arrest_year(\"OnlyAYEAR\") \u003d\u003d\u003d \"2020\"|| arrest_year(\"OnlyAYEAR\") \u003d\u003d\u003d \"2021\")\nval comp_offense \u003d complaints_year.select(\"OnlyCYEAR\", \"OFFENSE DESC\", \"BOROUGH NAME\").where(complaints_year(\"OnlyCYEAR\") \u003d\u003d\u003d \"2018\" || complaints_year(\"OnlyCYEAR\") \u003d\u003d\u003d \"2019\" || complaints_year(\"OnlyCYEAR\") \u003d\u003d\u003d \"2020\"|| complaints_year(\"OnlyCYEAR\") \u003d\u003d\u003d \"2021\")"
    },
    {
      "cell_type": "code",
      "execution_count": 38,
      "metadata": {
        "autoscroll": "auto"
      },
      "outputs": [],
      "source": "arr_offense.show(false)"
    },
    {
      "cell_type": "code",
      "execution_count": 39,
      "metadata": {
        "autoscroll": "auto"
      },
      "outputs": [],
      "source": "arr_offense.write.option(\"header\",true).format(\"csv\").save(\"/user/lr2947_nyu_edu/project/offense/arrest\")\ncomp_offense.write.option(\"header\",true).format(\"csv\").save(\"/user/lr2947_nyu_edu/project/offense/complaints\")\n"
    }
  ]
}